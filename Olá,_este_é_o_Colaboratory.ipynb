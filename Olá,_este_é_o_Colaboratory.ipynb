{
  "cells": [
    {
      "cell_type": "markdown",
      "metadata": {
        "id": "view-in-github",
        "colab_type": "text"
      },
      "source": [
        "<a href=\"https://colab.research.google.com/github/joaopedro3213/app/blob/main/Ol%C3%A1%2C_este_%C3%A9_o_Colaboratory.ipynb\" target=\"_parent\"><img src=\"https://colab.research.google.com/assets/colab-badge.svg\" alt=\"Open In Colab\"/></a>"
      ]
    },
    {
      "cell_type": "code",
      "source": [
        "import pandas as pd\n",
        "import numpy as np\n",
        "from sklearn.model_selection import train_test_split\n",
        "from sklearn.pipeline import Pipeline\n",
        "from sklearn.compose import ColumnTransformer\n",
        "from sklearn.preprocessing import OneHotEncoder, StandardScaler\n",
        "from sklearn.linear_model import LinearRegression\n",
        "from sklearn.metrics import mean_squared_error\n",
        "\n",
        "# Criando um conjunto de dados fictício\n",
        "data = {\n",
        "    'marca': ['Ford', 'Toyota', 'Honda', 'Ford', 'Honda', 'Toyota', 'Ford', 'Honda', 'Toyota', 'Ford'],\n",
        "    'ano': [2015, 2018, 2017, 2016, 2019, 2020, 2013, 2014, 2016, 2018],\n",
        "    'quilometragem': [50000, 30000, 40000, 60000, 20000, 15000, 80000, 70000, 55000, 35000],\n",
        "    'preco': [45000, 60000, 52000, 47000, 65000, 70000, 40000, 42000, 48000, 58000]\n",
        "}\n",
        "df = pd.DataFrame(data)\n",
        "\n",
        "# Separando variáveis independentes e dependente\n",
        "X = df.drop(columns=['preco'])\n",
        "y = df['preco']\n",
        "\n",
        "# Dividindo em treino e teste\n",
        "X_train, X_test, y_train, y_test = train_test_split(X, y, test_size=0.2, random_state=42)\n",
        "\n",
        "# Definindo pré-processamento\n",
        "preprocessor = ColumnTransformer([\n",
        "    ('num', StandardScaler(), ['ano', 'quilometragem']),\n",
        "    ('cat', OneHotEncoder(), ['marca'])\n",
        "])\n",
        "\n",
        "# Criando pipeline\n",
        "pipeline = Pipeline([\n",
        "    ('preprocessing', preprocessor),\n",
        "    ('model', LinearRegression())\n",
        "])\n",
        "\n",
        "# Treinando o modelo\n",
        "pipeline.fit(X_train, y_train)\n",
        "\n",
        "# Fazendo previsões\n",
        "y_pred = pipeline.predict(X_test)\n",
        "\n",
        "# Avaliação do modelo\n",
        "mse = mean_squared_error(y_test, y_pred)\n",
        "print(f'Erro Quadrático Médio: {mse:.2f}')\n"
      ],
      "metadata": {
        "id": "dYGlKjI_G-5n",
        "outputId": "407cffcb-281a-49bd-a225-3adefa86570b",
        "colab": {
          "base_uri": "https://localhost:8080/"
        }
      },
      "execution_count": 1,
      "outputs": [
        {
          "output_type": "stream",
          "name": "stdout",
          "text": [
            "Erro Quadrático Médio: 18437737.01\n"
          ]
        }
      ]
    }
  ],
  "metadata": {
    "colab": {
      "name": "Olá, este é o Colaboratory",
      "toc_visible": true,
      "provenance": [],
      "include_colab_link": true
    },
    "kernelspec": {
      "display_name": "Python 3",
      "name": "python3"
    }
  },
  "nbformat": 4,
  "nbformat_minor": 0
}